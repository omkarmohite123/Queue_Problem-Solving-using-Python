{
  "nbformat": 4,
  "nbformat_minor": 0,
  "metadata": {
    "colab": {
      "provenance": [],
      "authorship_tag": "ABX9TyMEMXSpRPDkuTfsl6KQNrQ3",
      "include_colab_link": true
    },
    "kernelspec": {
      "name": "python3",
      "display_name": "Python 3"
    },
    "language_info": {
      "name": "python"
    }
  },
  "cells": [
    {
      "cell_type": "markdown",
      "metadata": {
        "id": "view-in-github",
        "colab_type": "text"
      },
      "source": [
        "<a href=\"https://colab.research.google.com/github/omkarmohite123/Queue_Problem-Solving-using-Python/blob/main/Queue1.ipynb\" target=\"_parent\"><img src=\"https://colab.research.google.com/assets/colab-badge.svg\" alt=\"Open In Colab\"/></a>"
      ]
    },
    {
      "cell_type": "code",
      "source": [
        "\"\"\"\n",
        "You are given a string of different type of brackets. Your task is to check whether the given string is balanced or not balanced.\n",
        "A string is said to be balanced if the number of opening brackets are equal to the number of closing brackets where the brackets should be of same kind.\n",
        "\n",
        "Input Description:\n",
        "You are given a string ‘s’.\n",
        "\n",
        "Output Description:\n",
        "Print 'yes' if the given string is balanced and no if it is not\n",
        "\n",
        "Sample Input :\n",
        "{}(())[][][{}]\n",
        "Sample Output :\n",
        "yes\n",
        "\n",
        "\"\"\""
      ],
      "metadata": {
        "id": "7713XnSVnOLg"
      },
      "execution_count": null,
      "outputs": []
    },
    {
      "cell_type": "code",
      "source": [
        "#1\n",
        "a=input()\n",
        "b=list(a)\n",
        "s1=[]\n",
        "s2=[]\n",
        "s3=[]\n",
        "e1=[]\n",
        "e2=[]\n",
        "e3=[]\n",
        "for i in b:\n",
        "   if i in \"{\":\n",
        "      s1.append(i)\n",
        "   if i in \"(\":\n",
        "      s2.append(i)\n",
        "   if i in \"[\":\n",
        "      s3.append(i)\n",
        "   if i in \"}\":\n",
        "      e1.append(i)\n",
        "   if i in \")\":\n",
        "      e2.append(i)\n",
        "   if i in \"]\":\n",
        "      e3.append(i)\n",
        "if len(s1)==len(e1) and  len(s2)==len(e2) and len(s3)==len(e3) and len(b)%2==0:\n",
        "   print(\"yes\")\n",
        "else:\n",
        "  print(\"no\")"
      ],
      "metadata": {
        "colab": {
          "base_uri": "https://localhost:8080/"
        },
        "id": "GpQ_e5s6nOTk",
        "outputId": "26e417a6-15cb-42f2-b176-764af8c807bf"
      },
      "execution_count": 19,
      "outputs": [
        {
          "output_type": "stream",
          "name": "stdout",
          "text": [
            "{}(())[][][{}]\n",
            "yes\n"
          ]
        }
      ]
    }
  ]
}