{
  "nbformat": 4,
  "nbformat_minor": 0,
  "metadata": {
    "colab": {
      "provenance": [],
      "authorship_tag": "ABX9TyPce+USyQAoYYPVExNiuhAm",
      "include_colab_link": true
    },
    "kernelspec": {
      "name": "python3",
      "display_name": "Python 3"
    },
    "language_info": {
      "name": "python"
    }
  },
  "cells": [
    {
      "cell_type": "markdown",
      "metadata": {
        "id": "view-in-github",
        "colab_type": "text"
      },
      "source": [
        "<a href=\"https://colab.research.google.com/github/omkarmohite123/Queue_Problem-Solving-using-Python/blob/main/Queue7.ipynb\" target=\"_parent\"><img src=\"https://colab.research.google.com/assets/colab-badge.svg\" alt=\"Open In Colab\"/></a>"
      ]
    },
    {
      "cell_type": "code",
      "source": [
        "\"\"\"\n",
        "We are in the land of Aliens.\n",
        "There are two aliens Beta and Gamma competing in an election. According to their system, the one who gets to 1000 votes or above first will be declared the winner. Each alien citizen can cast many votes depending on their strength. If the strength of an alien citizen is S[i] at a point, he can cast S[i] votes. After casting a vote, the strength S[i] of alien becomes floor(S[i]/3). After S[i] becomes zero, the alien citizen can't vote. You are given N citizens and their strengths. Each day Beta first picks a citizen ONCE to vote for her and Gamma picks a citizen TWICE to vote for her (citizens picked can be the same). Find who wins the election if both pick optimally. Print -1 if both of them could not reach 1000 votes or above.\n",
        "\n",
        "Input Description:\n",
        "The first line contains an Integer N denoting the number of citizens. The next line contains N space separated integers S[i] (1 <= i <= N)\n",
        "\n",
        "Output Description:\n",
        "Print a line, the winner as \"Beta\" or \"Gamma\" (without quotes) or -1\n",
        "\n",
        "Sample Input :\n",
        "2\n",
        "900 900\n",
        "Sample Output :\n",
        "Gamma\n",
        "\n",
        "\"\"\""
      ],
      "metadata": {
        "id": "O3Uemlrfp3I0"
      },
      "execution_count": null,
      "outputs": []
    },
    {
      "cell_type": "code",
      "source": [
        "n = int(input())\n",
        "c = [int(x) for x in input().split()]\n",
        "beta = 0\n",
        "gamma = 0\n",
        "def maxIndex(c):\n",
        "    idx = 0\n",
        "    for k in range(len(c)):\n",
        "        if c[idx] < c[k]:\n",
        "            idx = k\n",
        "    return idx\n",
        "flag = False\n",
        "while True:\n",
        "    beta += c[maxIndex(c)]\n",
        "    c[maxIndex(c)] //= 3\n",
        "    if beta >= 1000:\n",
        "        flag = True\n",
        "        print(\"Beta\")\n",
        "        break\n",
        "    gamma += c[maxIndex(c)]\n",
        "    c[maxIndex(c)] //= 3\n",
        "    gamma += c[maxIndex(c)]\n",
        "    c[maxIndex(c)] //= 3\n",
        "    if gamma >= 1000:\n",
        "        flag = True\n",
        "        print(\"Gamma\")\n",
        "        break\n",
        "    if max(c) == 0: break\n",
        "if not flag: print(\"-1\")"
      ],
      "metadata": {
        "colab": {
          "base_uri": "https://localhost:8080/"
        },
        "id": "1fsbR1MEp3UR",
        "outputId": "1e4cc222-8a8a-45aa-a0e2-f35493c34212"
      },
      "execution_count": 25,
      "outputs": [
        {
          "output_type": "stream",
          "name": "stdout",
          "text": [
            "2\n",
            "900 900\n",
            "Gamma\n"
          ]
        }
      ]
    }
  ]
}