{
  "nbformat": 4,
  "nbformat_minor": 0,
  "metadata": {
    "colab": {
      "provenance": [],
      "authorship_tag": "ABX9TyM84chGrF6qgkI1O+OaqwId",
      "include_colab_link": true
    },
    "kernelspec": {
      "name": "python3",
      "display_name": "Python 3"
    },
    "language_info": {
      "name": "python"
    }
  },
  "cells": [
    {
      "cell_type": "markdown",
      "metadata": {
        "id": "view-in-github",
        "colab_type": "text"
      },
      "source": [
        "<a href=\"https://colab.research.google.com/github/omkarmohite123/Queue_Problem-Solving-using-Python/blob/main/Queue2.ipynb\" target=\"_parent\"><img src=\"https://colab.research.google.com/assets/colab-badge.svg\" alt=\"Open In Colab\"/></a>"
      ]
    },
    {
      "cell_type": "code",
      "source": [
        "\"\"\"\n",
        "Ram was going through the concept of paranthesis. He got stuck in some question. Your task is to help him in solving the question. He has to tell maximum length at which paranthesis are balanced. Its now your task to display the maximum number\n",
        "\n",
        "Input Description:\n",
        "You are given a string 'S' of paranthesis\n",
        "\n",
        "Output Description:\n",
        "Print the maximum length of balanced paranthesis else if it no balanced paranthesis length exists print -1\n",
        "\n",
        "Sample Input :\n",
        "))(())\n",
        "Sample Output :\n",
        "4\n",
        "\n",
        "\"\"\""
      ],
      "metadata": {
        "id": "b_7PJ3JVn0Cs"
      },
      "execution_count": null,
      "outputs": []
    },
    {
      "cell_type": "code",
      "source": [
        "s = list(str(input()))\n",
        "count = 0\n",
        "while True:\n",
        "    if '(' in s and ')' in s:\n",
        "        count += 2\n",
        "        s.remove('(')\n",
        "        s.remove(')')\n",
        "    else: break\n",
        "if count == 0: print(\"-1\")\n",
        "else:print(count)"
      ],
      "metadata": {
        "colab": {
          "base_uri": "https://localhost:8080/"
        },
        "id": "052IGgb5n0Fc",
        "outputId": "d8561a66-aab4-4ac1-ef14-3b5c394afefd"
      },
      "execution_count": 20,
      "outputs": [
        {
          "output_type": "stream",
          "name": "stdout",
          "text": [
            "))(())\n",
            "4\n"
          ]
        }
      ]
    }
  ]
}