{
  "nbformat": 4,
  "nbformat_minor": 0,
  "metadata": {
    "colab": {
      "provenance": [],
      "authorship_tag": "ABX9TyM/XO29+w65mZVaMMFpIn/G",
      "include_colab_link": true
    },
    "kernelspec": {
      "name": "python3",
      "display_name": "Python 3"
    },
    "language_info": {
      "name": "python"
    }
  },
  "cells": [
    {
      "cell_type": "markdown",
      "metadata": {
        "id": "view-in-github",
        "colab_type": "text"
      },
      "source": [
        "<a href=\"https://colab.research.google.com/github/omkarmohite123/Queue_Problem-Solving-using-Python/blob/main/Queue3.ipynb\" target=\"_parent\"><img src=\"https://colab.research.google.com/assets/colab-badge.svg\" alt=\"Open In Colab\"/></a>"
      ]
    },
    {
      "cell_type": "code",
      "source": [
        "\"\"\"\n",
        "Grigor went shopping at a mall. He wanted to buy perfumes. The prices of the perfume of the available N brands is given by an array P[1], P[2]... P[N]. There are infinite supplies of each perfume brand. However P[i] can increase or decrease by a value X. You are given Q queries. Grigor want to spend the least amount of money possible. (The price will not become negative for the given input). Read further.\n",
        "\n",
        "Input Description:\n",
        "The first line contains two space separated integers N, Q, the number of perfumes and the number of queries respectively. The next line contains, N space separated integers P[i] Then Q lines follow. Each line contains two space separated integers of the form 1 X , which means that the cheapest perfume’s price increases by X. 2, which denotes Grigor has to buy a perfume at that juncture.\n",
        "\n",
        "Output Description:\n",
        "Print two space separated integers, the number of perfumes Grigor buys and the minimum money he has spent.\n",
        "\n",
        "Sample Input :\n",
        "5 3\n",
        "1 2 3 4 5\n",
        "2\n",
        "1 -1\n",
        "2\n",
        "Sample Output :\n",
        "2 1\n",
        "\n",
        "\"\"\""
      ],
      "metadata": {
        "id": "78ruNFcmoJzW"
      },
      "execution_count": null,
      "outputs": []
    },
    {
      "cell_type": "code",
      "source": [
        "\n",
        "(n, q) = map(int, input().split())\n",
        "l = [int(x) for x in input().split()]\n",
        "count = 0\n",
        "price = 0\n",
        "for _ in range(q):\n",
        "    a = [int(x) for x in input().split()]\n",
        "    if a[0] == 1:\n",
        "        mn = 0\n",
        "        for i in range(len(l)):\n",
        "            if l[mn] > l[i]:\n",
        "                mn = i\n",
        "        l[mn] += a[1]\n",
        "    if a[0] == 2:\n",
        "        count += 1\n",
        "        mn = 0\n",
        "        for i in range(len(l)):\n",
        "            if l[mn] > l[i]:\n",
        "                mn = i\n",
        "        price += l[mn]\n",
        "print(count, price)\n"
      ],
      "metadata": {
        "colab": {
          "base_uri": "https://localhost:8080/"
        },
        "id": "d_328nyNoJ6v",
        "outputId": "a0fafe76-48cd-4490-cc2d-b6dfd081e54c"
      },
      "execution_count": 21,
      "outputs": [
        {
          "output_type": "stream",
          "name": "stdout",
          "text": [
            "5 3\n",
            "1 2 3 4 5\n",
            "2\n",
            "1 -1\n",
            "2\n",
            "2 1\n"
          ]
        }
      ]
    }
  ]
}