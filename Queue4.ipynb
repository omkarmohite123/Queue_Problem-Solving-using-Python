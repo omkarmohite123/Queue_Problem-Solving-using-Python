{
  "nbformat": 4,
  "nbformat_minor": 0,
  "metadata": {
    "colab": {
      "provenance": [],
      "authorship_tag": "ABX9TyOxHEhEXmIyj+JB9JRmGX/4",
      "include_colab_link": true
    },
    "kernelspec": {
      "name": "python3",
      "display_name": "Python 3"
    },
    "language_info": {
      "name": "python"
    }
  },
  "cells": [
    {
      "cell_type": "markdown",
      "metadata": {
        "id": "view-in-github",
        "colab_type": "text"
      },
      "source": [
        "<a href=\"https://colab.research.google.com/github/omkarmohite123/Queue_Problem-Solving-using-Python/blob/main/Queue4.ipynb\" target=\"_parent\"><img src=\"https://colab.research.google.com/assets/colab-badge.svg\" alt=\"Open In Colab\"/></a>"
      ]
    },
    {
      "cell_type": "code",
      "source": [
        "\"\"\"\n",
        "You are given a string representing the postfix expression.Evaluate the expression. And print the answer and print -1 if expression is wrong\n",
        "\n",
        "Input Description:\n",
        "You are given with a string containing operator and digits 0-9.\n",
        "\n",
        "Output Description:\n",
        "Print the answer print -1 if expression given is wrong\n",
        "\n",
        "Sample Input :\n",
        "23+*\n",
        "Sample Output :\n",
        "-1\n",
        "\n",
        "\"\"\""
      ],
      "metadata": {
        "id": "NxJQMzw2o1Nq"
      },
      "execution_count": null,
      "outputs": []
    },
    {
      "cell_type": "code",
      "source": [
        "s = list(str(input()))\n",
        "num = 0\n",
        "opr = 0\n",
        "for i in s:\n",
        "    if i in '1234567890': num += 1\n",
        "    if i in '+-*/%' : opr += 1\n",
        "if num == (opr+1):\n",
        "    stk = []\n",
        "    for i in range(len(s)):\n",
        "        if s[i] not in \"+-*/%\":\n",
        "            stk.insert(0, s[i])\n",
        "        else:\n",
        "            a = int(stk.pop(0))\n",
        "            b = int(stk.pop(0))\n",
        "            if s[i] == '+' : stk.insert(0, b + a)\n",
        "            elif s[i] == '-' : stk.insert(0, b - a)\n",
        "            elif s[i] == '*' : stk.insert(0, b * a)\n",
        "            elif s[i] == '/' : stk.insert(0, b / a)\n",
        "            elif s[i] == '%' : stk.insert(0, b % a)\n",
        "            else: continue\n",
        "    print(stk[0])\n",
        "else: print(-1)"
      ],
      "metadata": {
        "colab": {
          "base_uri": "https://localhost:8080/"
        },
        "id": "m5xj8F5-o1VH",
        "outputId": "815a4cab-5333-4912-a949-405e9011cc7c"
      },
      "execution_count": 22,
      "outputs": [
        {
          "output_type": "stream",
          "name": "stdout",
          "text": [
            "23+*\n",
            "-1\n"
          ]
        }
      ]
    }
  ]
}